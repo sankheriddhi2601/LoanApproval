{
 "cells": [
  {
   "cell_type": "code",
   "execution_count": null,
   "metadata": {},
   "outputs": [],
   "source": [
    "from flask import Flask, request, jsonify\n",
    "import joblib\n",
    "import numpy as np\n",
    "\n",
    "# Load the saved model and scaler\n",
    "model = joblib.load(\"xgboost_loan_model.pkl\")\n",
    "scaler = joblib.load(\"scaler.pkl\")\n",
    "\n",
    "# Initialize Flask app\n",
    "app = Flask(__name__)\n",
    "\n",
    "@app.route('/predict', methods=['POST'])\n",
    "def predict():\n",
    "    # Parse input JSON\n",
    "    input_data = request.get_json()\n",
    "\n",
    "    # Ensure the input data contains all required features\n",
    "    features = [\n",
    "        \"person_age\", \"person_gender\", \"person_education\", \"person_income\",\n",
    "        \"person_emp_exp\", \"person_home_ownership\", \"loan_amnt\", \"loan_intent\",\n",
    "        \"loan_int_rate\", \"loan_percent_income\", \"cb_person_cred_hist_length\",\n",
    "        \"credit_score\", \"previous_loan_defaults_on_file\"\n",
    "    ]\n",
    "    try:\n",
    "        # Extract and reshape input features\n",
    "        input_array = np.array([input_data[feature] for feature in features]).reshape(1, -1)\n",
    "\n",
    "        # Scale the input data\n",
    "        scaled_input = scaler.transform(input_array)\n",
    "\n",
    "        # Get the prediction from the model\n",
    "        prediction = model.predict(scaled_input)\n",
    "        probability = model.predict_proba(scaled_input)[0][1]\n",
    "\n",
    "        # Prepare response\n",
    "        response = {\n",
    "            \"loan_status\": \"Approved\" if prediction[0] == 1 else \"Rejected\",\n",
    "            \"approval_probability\": probability\n",
    "        }\n",
    "        return jsonify(response)\n",
    "    except KeyError as e:\n",
    "        return jsonify({\"error\": f\"Missing feature in input: {e}\"}), 400\n",
    "\n",
    "if __name__ == '__main__':\n",
    "    app.run(debug=True)\n"
   ]
  },
  {
   "cell_type": "code",
   "execution_count": null,
   "metadata": {},
   "outputs": [],
   "source": []
  }
 ],
 "metadata": {
  "language_info": {
   "name": "python"
  }
 },
 "nbformat": 4,
 "nbformat_minor": 2
}
